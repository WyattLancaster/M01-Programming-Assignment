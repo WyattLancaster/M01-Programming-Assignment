{
 "cells": [
  {
   "cell_type": "code",
   "execution_count": 2,
   "id": "43f41220",
   "metadata": {},
   "outputs": [
    {
     "name": "stdout",
     "output_type": "stream",
     "text": [
      "3600\n"
     ]
    }
   ],
   "source": [
    "# m01 Assignment - Numbers and Types: 3.1\n",
    "\t# author: WJL\n",
    "\t# created: 2022-01-20\n",
    "\t# Program that calculates how many seconds are in an hour.\n",
    "    \n",
    "# Calculate the number of seconds per minute(60) by the number of minutes per hour(60)\n",
    "print(60*60)"
   ]
  },
  {
   "cell_type": "code",
   "execution_count": 4,
   "id": "cf3b5e36",
   "metadata": {},
   "outputs": [
    {
     "name": "stdout",
     "output_type": "stream",
     "text": [
      "There are:  3600  seconds per hour.\n"
     ]
    }
   ],
   "source": [
    "# m01 Assignment - Numbers and Types: 3.2\n",
    "\t# author: WJL\n",
    "\t# created: 2022-01-20\n",
    "\t# Program that calculates how many seconds are in an hour and assigns the output to a variable.\n",
    "    \n",
    "# Create the output variable\n",
    "seconds_per_hour = 60*60\n",
    "\n",
    "# Print the value of the variable\n",
    "print('There are: ', seconds_per_hour, ' seconds per hour.')"
   ]
  },
  {
   "cell_type": "code",
   "execution_count": 6,
   "id": "5afae14d",
   "metadata": {},
   "outputs": [
    {
     "name": "stdout",
     "output_type": "stream",
     "text": [
      "86400\n"
     ]
    }
   ],
   "source": [
    "# m01 Assignment - Numbers and Types: 3.3\n",
    "\t# author: WJL\n",
    "\t# created: 2022-01-20\n",
    "\t# Program that calculates the seconds per day using the previous \"seconds_per_hour\" variable.\n",
    "    \n",
    "# Creating the seconds per hour variable\n",
    "seconds_per_hour = 60*60\n",
    "\n",
    "# Calculating the seconds per day and printing it\n",
    "print(seconds_per_hour*24)"
   ]
  },
  {
   "cell_type": "code",
   "execution_count": 7,
   "id": "de6eded4",
   "metadata": {},
   "outputs": [
    {
     "name": "stdout",
     "output_type": "stream",
     "text": [
      "There are:  86400  seconds per day.\n"
     ]
    }
   ],
   "source": [
    "# m01 Assignment - Numbers and Types: 3.4\n",
    "\t# author: WJL\n",
    "\t# created: 2022-01-20\n",
    "\t# Program that calculates the seconds per day using the previous \"seconds_per_hour\" variable \n",
    "    # and assigning it the variable \"seconds_per_day\".\n",
    "    \n",
    "# Assigning the two variables\n",
    "seconds_per_hour = 60*60\n",
    "seconds_per_day = seconds_per_hour * 24\n",
    "\n",
    "# Printing the output\n",
    "print('There are: ', seconds_per_day, ' seconds per day.')"
   ]
  },
  {
   "cell_type": "code",
   "execution_count": 9,
   "id": "9b36b7ad",
   "metadata": {},
   "outputs": [
    {
     "name": "stdout",
     "output_type": "stream",
     "text": [
      "24.0\n"
     ]
    }
   ],
   "source": [
    "# m01 Assignment - Numbers and Types: 3.5\n",
    "\t# author: WJL\n",
    "\t# created: 2022-01-20\n",
    "\t# Program that calculates the seconds per day and per hour and then divides the two using floating point division\n",
    "    #and prints the output.\n",
    "    \n",
    "# Assigning the variables\n",
    "seconds_per_hour = 60*60\n",
    "seconds_per_day = seconds_per_hour * 24\n",
    "\n",
    "# Dividing the two variables with floating point div and printing the output\n",
    "print(seconds_per_day/seconds_per_hour)"
   ]
  },
  {
   "cell_type": "code",
   "execution_count": 10,
   "id": "7d474549",
   "metadata": {},
   "outputs": [
    {
     "name": "stdout",
     "output_type": "stream",
     "text": [
      "24\n"
     ]
    }
   ],
   "source": [
    "# m01 Assignment - Numbers and Types: 3.6\n",
    "\t# author: WJL\n",
    "\t# created: 2022-01-20\n",
    "\t# Program that calculates the seconds per day and per hour and then divides the two using integer division\n",
    "    #and prints the output.\n",
    "    \n",
    "# Assigning the variables\n",
    "seconds_per_hour = 60*60\n",
    "seconds_per_day = seconds_per_hour * 24\n",
    "\n",
    "# Dividing the two variables with integer div and printing the output\n",
    "print(seconds_per_day//seconds_per_hour)"
   ]
  },
  {
   "cell_type": "markdown",
   "id": "8dca6b74",
   "metadata": {},
   "source": [
    "Answer to question in 3.6: Yes the two outputs are the same excluding the ending \".0\""
   ]
  }
 ],
 "metadata": {
  "kernelspec": {
   "display_name": "Python 3 (ipykernel)",
   "language": "python",
   "name": "python3"
  },
  "language_info": {
   "codemirror_mode": {
    "name": "ipython",
    "version": 3
   },
   "file_extension": ".py",
   "mimetype": "text/x-python",
   "name": "python",
   "nbconvert_exporter": "python",
   "pygments_lexer": "ipython3",
   "version": "3.9.13"
  }
 },
 "nbformat": 4,
 "nbformat_minor": 5
}
